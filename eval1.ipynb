{
 "cells": [
  {
   "cell_type": "code",
   "execution_count": 1,
   "metadata": {},
   "outputs": [
    {
     "name": "stdout",
     "output_type": "stream",
     "text": [
      "ardnahC varuaG\n"
     ]
    }
   ],
   "source": [
    "string=\"Gaurav Chandra\"\n",
    "str=\"\"\n",
    "print(string[::-1])"
   ]
  },
  {
   "cell_type": "code",
   "execution_count": 27,
   "metadata": {},
   "outputs": [
    {
     "name": "stdout",
     "output_type": "stream",
     "text": [
      "World in Nile The while India in river longest the is Ganges The \n"
     ]
    }
   ],
   "source": [
    "\n",
    "string=\" The Ganges is the longest river in India while The Nile in World\"\n",
    "str2=\"\"\n",
    "ans=[]\n",
    "str1=string[::-1]\n",
    "for i in str1:\n",
    "    if i!=\" \":\n",
    "        str2+=i\n",
    "    elif i==\" \":\n",
    "        str2=str2[::-1]\n",
    "        str2.capitalize()\n",
    "        ans.append(str2)\n",
    "        str2=\"\"\n",
    "str4=\"\"\n",
    "for i in range(len(ans)):\n",
    "    str4+=ans[i]+\" \"\n",
    "print(str4)"
   ]
  },
  {
   "cell_type": "code",
   "execution_count": null,
   "metadata": {},
   "outputs": [],
   "source": []
  }
 ],
 "metadata": {
  "kernelspec": {
   "display_name": "Python 3",
   "language": "python",
   "name": "python3"
  },
  "language_info": {
   "codemirror_mode": {
    "name": "ipython",
    "version": 3
   },
   "file_extension": ".py",
   "mimetype": "text/x-python",
   "name": "python",
   "nbconvert_exporter": "python",
   "pygments_lexer": "ipython3",
   "version": "3.7.3"
  }
 },
 "nbformat": 4,
 "nbformat_minor": 2
}
